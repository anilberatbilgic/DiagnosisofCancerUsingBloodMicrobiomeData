{
  "nbformat": 4,
  "nbformat_minor": 0,
  "metadata": {
    "colab": {
      "provenance": []
    },
    "kernelspec": {
      "name": "python3",
      "display_name": "Python 3"
    },
    "language_info": {
      "name": "python"
    }
  },
  "cells": [
    {
      "cell_type": "code",
      "execution_count": 24,
      "metadata": {
        "id": "CsWrD8d0Xxxm"
      },
      "outputs": [],
      "source": [
        "import pandas as pd\n",
        "data = pd.read_csv('data.csv', index_col=0)\n",
        "labels = pd.read_csv('labels.csv', index_col=0)"
      ]
    },
    {
      "cell_type": "code",
      "source": [
        "df = data.join(labels, how='inner')"
      ],
      "metadata": {
        "id": "vuh9BOXmYFII"
      },
      "execution_count": 25,
      "outputs": []
    },
    {
      "cell_type": "code",
      "source": [
        "print(labels.columns)"
      ],
      "metadata": {
        "colab": {
          "base_uri": "https://localhost:8080/"
        },
        "id": "TwYu70m5YUYq",
        "outputId": "9a321b27-0e36-4a3b-abc5-cc65132838d4"
      },
      "execution_count": 26,
      "outputs": [
        {
          "output_type": "stream",
          "name": "stdout",
          "text": [
            "Index(['disease_type'], dtype='object')\n"
          ]
        }
      ]
    },
    {
      "cell_type": "code",
      "source": [
        "df_normalized = df.iloc[:, :-1].div(df.iloc[:, :-1].sum(axis=1), axis=0)\n",
        "df_normalized['disease_type'] = df['disease_type']"
      ],
      "metadata": {
        "id": "_7xz4pLyYH1v"
      },
      "execution_count": 27,
      "outputs": []
    },
    {
      "cell_type": "code",
      "source": [
        "from sklearn.preprocessing import LabelEncoder\n",
        "\n",
        "# Converted ‘disease_type’ column containing all tags\n",
        "le = LabelEncoder()\n",
        "df_normalized['disease_type'] = le.fit_transform(df_normalized['disease_type'])\n",
        "\n",
        "print(\"Sınıf Etiketleri:\", le.classes_)\n"
      ],
      "metadata": {
        "colab": {
          "base_uri": "https://localhost:8080/"
        },
        "id": "r5nLXStdY7Lc",
        "outputId": "45c7fe2f-805f-4fb1-90f1-aa53a89c74d2"
      },
      "execution_count": 28,
      "outputs": [
        {
          "output_type": "stream",
          "name": "stdout",
          "text": [
            "Sınıf Etiketleri: ['breast cancer' 'colon cancer' 'lung cancer' 'prosrtate cancer']\n"
          ]
        }
      ]
    },
    {
      "cell_type": "code",
      "source": [
        "\n",
        "y_colon = (df_normalized['disease_type'] == 1).astype(int)\n",
        "\n",
        "\n",
        "y_breast = (df_normalized['disease_type'] == 0).astype(int)\n",
        "\n",
        "\n",
        "y_lung = (df_normalized['disease_type'] == 2).astype(int)\n",
        "\n",
        "\n",
        "y_prostate = (df_normalized['disease_type'] == 3).astype(int)\n",
        "\n",
        "X = df_normalized.drop('disease_type', axis=1)"
      ],
      "metadata": {
        "id": "iJPzZ7IXYdZe"
      },
      "execution_count": 29,
      "outputs": []
    },
    {
      "cell_type": "code",
      "source": [
        "from sklearn.metrics import make_scorer, recall_score\n",
        "from sklearn.ensemble import RandomForestClassifier\n",
        "from sklearn.model_selection import cross_validate\n",
        "import xgboost as xgb\n",
        "\n",
        "def evaluate_model(model, X, y):\n",
        "    scores = cross_validate(\n",
        "        model, X, y, cv=5,\n",
        "        scoring={'sensitivity': sensitivity, 'specificity': specificity},\n",
        "        n_jobs=-1\n",
        "    )\n",
        "    return {\n",
        "        'Sensitivity': round(scores['test_sensitivity'].mean(), 2),\n",
        "        'Specificity': round(scores['test_specificity'].mean(), 2)\n",
        "    }\n",
        "\n",
        "\n",
        "rf = RandomForestClassifier(n_estimators=100, random_state=42)\n",
        "rf_results = {\n",
        "    'Colon': evaluate_model(rf, X, y_colon),\n",
        "    'Breast': evaluate_model(rf, X, y_breast),\n",
        "    'Lung': evaluate_model(rf, X, y_lung),\n",
        "    'Prostate': evaluate_model(rf, X, y_prostate)\n",
        "}\n",
        "\n",
        "\n",
        "xgb_model = xgb.XGBClassifier(objective='binary:logistic', n_estimators=100, random_state=42)\n",
        "xgb_results = {\n",
        "    'Colon': evaluate_model(xgb_model, X, y_colon),\n",
        "    'Breast': evaluate_model(xgb_model, X, y_breast),\n",
        "    'Lung': evaluate_model(xgb_model, X, y_lung),\n",
        "    'Prostate': evaluate_model(xgb_model, X, y_prostate)\n",
        "}\n",
        "\n",
        "\n",
        "rf_df = pd.DataFrame(rf_results).T.rename(columns={\n",
        "    'Sensitivity': 'Sensitivity (RF)',\n",
        "    'Specificity': 'Specificity (RF)'\n",
        "})\n",
        "xgb_df = pd.DataFrame(xgb_results).T.rename(columns={\n",
        "    'Sensitivity': 'Sensitivity (XGB)',\n",
        "    'Specificity': 'Specificity (XGB)'\n",
        "})\n",
        "final_df = pd.concat([rf_df, xgb_df], axis=1)\n",
        "\n",
        "\n",
        "pd.set_option('display.max_columns', None)\n",
        "pd.set_option('display.width', 1000)\n",
        "pd.set_option('display.float_format', '{:.2f}'.format)\n",
        "\n",
        "\n",
        "print(\"\\n\" + \"=\"*55 + \" PERFORMANCE RESULTS \" + \"=\"*55)\n",
        "print(final_df.to_string(\n",
        "    justify='center',\n",
        "    formatters={\n",
        "        'Sensitivity (RF)': '{:.2f}'.format,\n",
        "        'Specificity (RF)': '{:.2f}'.format,\n",
        "        'Sensitivity (XGB)': '{:.2f}'.format,\n",
        "        'Specificity (XGB)': '{:.2f}'.format\n",
        "    })\n",
        ")"
      ],
      "metadata": {
        "colab": {
          "base_uri": "https://localhost:8080/"
        },
        "id": "5sfqhn3wZiX1",
        "outputId": "90ba55f0-4421-4fc4-dfc6-1205b46b1abf"
      },
      "execution_count": 30,
      "outputs": [
        {
          "output_type": "stream",
          "name": "stdout",
          "text": [
            "\n",
            "======================================================= PERFORMANCE RESULTS =======================================================\n",
            "         Sensitivity (RF) Specificity (RF) Sensitivity (XGB) Specificity (XGB)\n",
            "Colon          0.95             1.00              0.95              0.99      \n",
            "Breast         0.90             1.00              0.99              1.00      \n",
            "Lung           0.57             1.00              0.77              1.00      \n",
            "Prostate       0.96             0.89              0.97              0.94      \n"
          ]
        }
      ]
    }
  ]
}